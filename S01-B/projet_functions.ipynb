{
 "cells": [
  {
   "cell_type": "code",
   "execution_count": 4,
   "metadata": {},
   "outputs": [],
   "source": [
    "def interest_calc():\n",
    "    while True:\n",
    "        try:\n",
    "            placement = int(input(\"what is the amount of the placement? \\n\"))\n",
    "            years = int(input(\"what is the number of years? \\n\"))\n",
    "            rate = (int(input(\"what is the interest rate\\n\").replace(\"%\", \"\")) / 100)\n",
    "            break\n",
    "        except ValueError:\n",
    "             print(\"Oops!  That was no valid number.  Try again...\")\n",
    "    if (placement < 0 or years < 0 or rate < 0):\n",
    "            raise Exception(\"Values cannot be negative...\")\n",
    "    return placement * ((1 + rate) ** years)"
   ]
  },
  {
   "cell_type": "code",
   "execution_count": 7,
   "metadata": {},
   "outputs": [
    {
     "name": "stdout",
     "output_type": "stream",
     "text": [
      "what is the amount of the placement? \n",
      "300000\n",
      "what is the number of years? \n",
      "10\n",
      "what is the interest rate\n",
      "3%\n"
     ]
    },
    {
     "data": {
      "text/plain": [
       "403174.9138032367"
      ]
     },
     "execution_count": 7,
     "metadata": {},
     "output_type": "execute_result"
    }
   ],
   "source": [
    "interest_calc()"
   ]
  },
  {
   "cell_type": "code",
   "execution_count": null,
   "metadata": {},
   "outputs": [],
   "source": []
  }
 ],
 "metadata": {
  "kernelspec": {
   "display_name": "Python 3",
   "language": "python",
   "name": "python3"
  },
  "language_info": {
   "codemirror_mode": {
    "name": "ipython",
    "version": 3
   },
   "file_extension": ".py",
   "mimetype": "text/x-python",
   "name": "python",
   "nbconvert_exporter": "python",
   "pygments_lexer": "ipython3",
   "version": "3.7.0"
  }
 },
 "nbformat": 4,
 "nbformat_minor": 2
}

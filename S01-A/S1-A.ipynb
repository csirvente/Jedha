{
 "cells": [
  {
   "cell_type": "markdown",
   "metadata": {},
   "source": [
    "# EXO S1-A"
   ]
  },
  {
   "cell_type": "markdown",
   "metadata": {},
   "source": [
    "# Construire un quiz"
   ]
  },
  {
   "cell_type": "code",
   "execution_count": null,
   "metadata": {},
   "outputs": [],
   "source": [
    "right_answer = \"Paris\"\n",
    "user_answer = input(\"What is the capital of France?\")\n",
    "output = \"Well done\" if (user_answer == right_answer) else \"Too bad!\"\n",
    "print(output)"
   ]
  },
  {
   "cell_type": "code",
   "execution_count": null,
   "metadata": {},
   "outputs": [],
   "source": [
    "def ask_question(theme):\n",
    "    return input(\"What is {}\".format(theme + \" \\n\"))"
   ]
  },
  {
   "cell_type": "code",
   "execution_count": null,
   "metadata": {},
   "outputs": [],
   "source": [
    "def quizz(theme = \"my name\", right_answer = \"Luca\", chances = 2):\n",
    "    user_answer = ask_question(theme)\n",
    "    chances = chances - 1\n",
    "    while ((right_answer != user_answer) and (chances > 0)):\n",
    "        print(\"Too bad. {} is not the right answer. You have {} attempts left\".format(user_answer, chances))\n",
    "        chances = chances-1\n",
    "        user_answer = ask_question(theme)\n",
    "    if (chances == 0):\n",
    "        print(\"You lose!\")\n",
    "        return\n",
    "    print(\"Well done!\")\n",
    "    return"
   ]
  },
  {
   "cell_type": "code",
   "execution_count": null,
   "metadata": {},
   "outputs": [],
   "source": [
    "quizz(\"the teacher's name\", \"Benjamin\", 5)"
   ]
  },
  {
   "cell_type": "markdown",
   "metadata": {},
   "source": [
    "# Bonus : générer un mot de passe"
   ]
  },
  {
   "cell_type": "code",
   "execution_count": 42,
   "metadata": {},
   "outputs": [],
   "source": [
    "import random\n",
    "def password_generator():\n",
    "    password = \"\"\n",
    "    for i in range(10):\n",
    "        bool = (random.randint(0, 1) == 1)\n",
    "        addition = str(random.randint(0, 9)) if (bool) else chr(random.randint(97, 122))\n",
    "        password += addition\n",
    "    print(password)"
   ]
  },
  {
   "cell_type": "code",
   "execution_count": 44,
   "metadata": {},
   "outputs": [
    {
     "name": "stdout",
     "output_type": "stream",
     "text": [
      "w47m17h098\n"
     ]
    }
   ],
   "source": [
    "password_generator()"
   ]
  }
 ],
 "metadata": {
  "kernelspec": {
   "display_name": "Python 3",
   "language": "python",
   "name": "python3"
  },
  "language_info": {
   "codemirror_mode": {
    "name": "ipython",
    "version": 3
   },
   "file_extension": ".py",
   "mimetype": "text/x-python",
   "name": "python",
   "nbconvert_exporter": "python",
   "pygments_lexer": "ipython3",
   "version": "3.7.1"
  }
 },
 "nbformat": 4,
 "nbformat_minor": 2
}

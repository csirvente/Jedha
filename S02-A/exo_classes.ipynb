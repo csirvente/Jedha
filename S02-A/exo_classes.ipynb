{
 "cells": [
  {
   "cell_type": "markdown",
   "metadata": {},
   "source": [
    "# OOP in python"
   ]
  },
  {
   "cell_type": "code",
   "execution_count": 1,
   "metadata": {},
   "outputs": [
    {
     "name": "stdout",
     "output_type": "stream",
     "text": [
      "Hello my name is John\n"
     ]
    }
   ],
   "source": [
    "class Person:\n",
    "  def __init__(self, name, age):\n",
    "    self.name = name\n",
    "    self.age = age\n",
    "\n",
    "  def myfunc(self):\n",
    "    print(\"Hello my name is \" + self.name)\n",
    "\n",
    "p1 = Person(\"John\", 36)\n",
    "p1.myfunc()"
   ]
  },
  {
   "cell_type": "markdown",
   "metadata": {},
   "source": [
    "Les mathématiques, en général, on n’aime pas en faire. Surtout lorsqu’il s’agit de répéter des opérations, encore, encore et encore. Soyons de vrais paresseux et créons une classe qui s’occupera de faires les opérations qu’on veut pour nous."
   ]
  },
  {
   "cell_type": "code",
   "execution_count": 2,
   "metadata": {},
   "outputs": [],
   "source": [
    "import functools\n",
    "\n",
    "class Math:\n",
    "    def sqrt(num):\n",
    "        return num ** 1/2\n",
    "    def avg(liste):\n",
    "        sum = 0\n",
    "        for i in liste:\n",
    "            sum += i\n",
    "        return sum / len(liste)\n",
    "    def even_or_odd(num):\n",
    "        is_even = (num % 2 == 0)\n",
    "        return \"even\" if (is_even) else \"odd\"\n",
    "    def sum(liste):\n",
    "        return functools.reduce((lambda x, y: x * y), [1, 2, 3, 4])"
   ]
  },
  {
   "cell_type": "markdown",
   "metadata": {},
   "source": [
    "En Data Science, il arrive souvent qu’il y ait des valeurs manquantes dans un dataset. Voyons comment on peut créer une classe qui va nous permettre de remplacer cette valeur manquante par la moyenne des valeurs de la liste "
   ]
  },
  {
   "cell_type": "code",
   "execution_count": 3,
   "metadata": {},
   "outputs": [],
   "source": [
    "# Créer une classe qui va nous permettre de remplacer cette valeur manquante par la moyenne des valeurs de la liste\n",
    "\n",
    "class Imputer:\n",
    "    # Notre classe prendra un attribut qu’on appellera liste\n",
    "    def __init__(self, liste):\n",
    "        self.liste = liste\n",
    "\n",
    "    def avg(self):\n",
    "        my_list = self.liste\n",
    "        # filter list to calculate avg\n",
    "        filtered_list = list(filter(lambda item: item != None, my_list))\n",
    "        # calculate avg\n",
    "        avg = functools.reduce((lambda x, y: x + y), filtered_list) / len(filtered_list)\n",
    "        # replace None's by average\n",
    "        result = list(map(lambda x: avg if (x == None) else x , my_list))\n",
    "        return result"
   ]
  },
  {
   "cell_type": "code",
   "execution_count": 4,
   "metadata": {},
   "outputs": [
    {
     "name": "stdout",
     "output_type": "stream",
     "text": [
      "[1, 2, 1.5]\n"
     ]
    }
   ],
   "source": [
    "print(Imputer([1,2,None]).avg())"
   ]
  },
  {
   "cell_type": "markdown",
   "metadata": {},
   "source": [
    "# Datetime"
   ]
  },
  {
   "cell_type": "code",
   "execution_count": 5,
   "metadata": {},
   "outputs": [
    {
     "name": "stdout",
     "output_type": "stream",
     "text": [
      "today is Tuesday 12 March and it is 00 : 25\n"
     ]
    }
   ],
   "source": [
    "import datetime\n",
    "today = datetime.datetime.today()\n",
    "print(\"today is {} and it is {}\".format(today.strftime(\"%A %d %B\"), today.strftime(\"%H : %M\")))"
   ]
  },
  {
   "cell_type": "code",
   "execution_count": 6,
   "metadata": {},
   "outputs": [
    {
     "name": "stdout",
     "output_type": "stream",
     "text": [
      "0 12 3 2019\n"
     ]
    }
   ],
   "source": [
    "today = datetime.datetime.today()\n",
    "print(today.hour, today.day, today.month, today.year)"
   ]
  },
  {
   "cell_type": "code",
   "execution_count": 7,
   "metadata": {},
   "outputs": [
    {
     "data": {
      "text/plain": [
       "datetime.datetime(2019, 3, 12, 3, 25, 32, 696255)"
      ]
     },
     "execution_count": 7,
     "metadata": {},
     "output_type": "execute_result"
    }
   ],
   "source": [
    "# datetime.timedelta(jours, secondes, microsecondes, millisecondes, minutes, heures, semaines)\n",
    "\n",
    "today + datetime.timedelta(0,0,0,0,0,3,0)"
   ]
  },
  {
   "cell_type": "markdown",
   "metadata": {},
   "source": [
    "Le samedi 7 Juillet 2018 à 15h30, vous avez un match de Tennis très important avec votre boss. Vous ne voulez surtout pas le louper du coup vous décidez d’écrire un programme qui va vous permettre de vous le rappeler. "
   ]
  },
  {
   "cell_type": "markdown",
   "metadata": {},
   "source": [
    "Créez un programme qui permette de vous rappeler la chose 3 heures avant que le match ne commence"
   ]
  },
  {
   "cell_type": "code",
   "execution_count": 46,
   "metadata": {},
   "outputs": [],
   "source": [
    "import time\n",
    "\n",
    "def alarm(user_year, user_month, user_day, user_hour, user_minute):\n",
    "    \n",
    "    # convert user input to datetime obj:\n",
    "    # class datetime.datetime(year, month, day[, hour[, minute[, second[, microsecond[, tzinfo]]]]])\n",
    "    user_input = datetime.datetime(user_year, user_month, user_day, user_hour, user_minute)\n",
    "    \n",
    "    # subtract time diff\n",
    "    target = user_input - datetime.timedelta(minutes = 1)\n",
    "\n",
    "    diff = (target - datetime.datetime.now()).total_seconds()\n",
    "\n",
    "    # Think of time.sleep() as having the operating system set an alarm for you,\n",
    "    print(diff)\n",
    "    time.sleep(diff)\n",
    "\n",
    "    print(\"Hurry up! One minute left to...\")\n",
    "    print(user_input)"
   ]
  },
  {
   "cell_type": "code",
   "execution_count": 50,
   "metadata": {},
   "outputs": [
    {
     "name": "stdout",
     "output_type": "stream",
     "text": [
      "18.797788\n",
      "Hurry up! One minute left to...\n",
      "2019-03-12 00:46:00\n"
     ]
    }
   ],
   "source": [
    "alarm(2019, 3, 12, 0, 46)"
   ]
  },
  {
   "cell_type": "code",
   "execution_count": null,
   "metadata": {},
   "outputs": [],
   "source": []
  }
 ],
 "metadata": {
  "kernelspec": {
   "display_name": "Python 3",
   "language": "python",
   "name": "python3"
  },
  "language_info": {
   "codemirror_mode": {
    "name": "ipython",
    "version": 3
   },
   "file_extension": ".py",
   "mimetype": "text/x-python",
   "name": "python",
   "nbconvert_exporter": "python",
   "pygments_lexer": "ipython3",
   "version": "3.7.0"
  }
 },
 "nbformat": 4,
 "nbformat_minor": 2
}
